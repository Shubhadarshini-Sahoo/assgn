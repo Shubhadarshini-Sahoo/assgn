{
  "nbformat": 4,
  "nbformat_minor": 0,
  "metadata": {
    "colab": {
      "provenance": []
    },
    "kernelspec": {
      "name": "python3",
      "display_name": "Python 3"
    },
    "language_info": {
      "name": "python"
    }
  },
  "cells": [
    {
      "cell_type": "code",
      "execution_count": null,
      "metadata": {
        "id": "s7aRv6HEKF9r"
      },
      "outputs": [],
      "source": []
    },
    {
      "cell_type": "markdown",
      "source": [
        "#**Restfil_APIs_and_flask assignment**"
      ],
      "metadata": {
        "id": "-YgJIMHU661c"
      }
    },
    {
      "cell_type": "markdown",
      "source": [
        "**1.What is a RESTful API?**"
      ],
      "metadata": {
        "id": "IrhcJx-b2SCH"
      }
    },
    {
      "cell_type": "markdown",
      "source": [
        "A RESTful API is a web service that allows clients (like browsers or apps) to interact with server resources using standard HTTP methods (GET, POST, PUT, DELETE). Each resource has a unique URL, and the API is stateless, meaning every request contains all the information needed. RESTful APIs return data in a structured format (usually JSON) and follow principles that make them predictable, scalable, and easy to integrate."
      ],
      "metadata": {
        "id": "EZ5HWAoc2BRC"
      }
    },
    {
      "cell_type": "markdown",
      "source": [
        "**2.Explain the concept of API specification.**"
      ],
      "metadata": {
        "id": "RiLg5B-t2YEU"
      }
    },
    {
      "cell_type": "markdown",
      "source": [
        "An API specification is a formal, detailed description of how an API works and how clients should interact with it. It defines the endpoints, request methods (GET, POST, etc.), required parameters, headers, request/response formats, authentication, and error responses. Essentially, it acts as a contract between the API provider and the consumer, ensuring developers know exactly how to use the API correctly without needing to look at the server’s internal code. Popular formats for API specifications include OpenAPI (Swagger) and RAML."
      ],
      "metadata": {
        "id": "0AxpjaEz2f6l"
      }
    },
    {
      "cell_type": "markdown",
      "source": [
        "**3.What is Flask, and why is it popular for building APIs?**"
      ],
      "metadata": {
        "id": "F3B2mfxh2jWx"
      }
    },
    {
      "cell_type": "markdown",
      "source": [
        "Flask is a lightweight, open-source Python web framework used for building web applications and APIs. It provides the core tools to handle HTTP requests, routing, and responses, without enforcing a specific project structure or including unnecessary features.\n",
        "\n",
        "Simplicity: Minimal setup; easy to learn and use.\n",
        "\n",
        "Flexibility: Developers can choose their own database, authentication, and structure.\n",
        "\n",
        "Extensible: Supports many extensions for authentication, database handling, and more.\n",
        "\n",
        "Lightweight: Ideal for microservices and RESTful APIs where only essential components are needed.\n",
        "\n",
        "Python ecosystem: Easy integration with Python libraries and tools."
      ],
      "metadata": {
        "id": "yGKELt5d2uky"
      }
    },
    {
      "cell_type": "markdown",
      "source": [
        "**4.What is routing in Flask?**"
      ],
      "metadata": {
        "id": "g1ST02un22QH"
      }
    },
    {
      "cell_type": "markdown",
      "source": [
        "In Flask, routing is the mechanism that maps a URL path to a specific Python function (called a view function) that should be executed when that URL is accessed. It determines what the user sees or what action happens when they visit a particular web address."
      ],
      "metadata": {
        "id": "Q-heZD9u2_VL"
      }
    },
    {
      "cell_type": "markdown",
      "source": [
        "**5.How do you create a simple Flask application?**\n"
      ],
      "metadata": {
        "id": "PJB00cNe3vXw"
      }
    },
    {
      "cell_type": "markdown",
      "source": [
        "A Flask application is a lightweight web application built using the Flask framework, which is a micro web framework in Python. To create a simple Flask application, you follow these steps:\n",
        "\n",
        "Install Flask using pip install Flask.\n",
        "\n",
        "Import Flask in a Python file and create an application\n",
        "\n",
        "Define routes to handle different URLs using the @app.route() decorator. Each route is associated with a Python function that returns a response (text, HTML, JSON, etc.).\n",
        "\n",
        "Run the application with app.run(), which starts a development server so you can access the app in a browser."
      ],
      "metadata": {
        "id": "UKrNa9lf30ch"
      }
    },
    {
      "cell_type": "markdown",
      "source": [
        "**6.What are HTTP methods used in RESTful APIs?**"
      ],
      "metadata": {
        "id": "-kSPWPB04MFD"
      }
    },
    {
      "cell_type": "markdown",
      "source": [
        "In RESTful APIs, HTTP methods define the type of operation performed on a resource. The main methods are:\n",
        "\n",
        "GET – Retrieve data from the server (read).\n",
        "\n",
        "POST – Create a new resource on the server.\n",
        "\n",
        "PUT – Update an existing resource completely.\n",
        "\n",
        "PATCH – Partially update an existing resource.\n",
        "\n",
        "DELETE – Remove a resource from the server."
      ],
      "metadata": {
        "id": "ur2uPfWG4Thp"
      }
    },
    {
      "cell_type": "markdown",
      "source": [
        "**7.What is the purpose of the @app.route() decorator in Flask?**"
      ],
      "metadata": {
        "id": "xjZOM_At4Uc3"
      }
    },
    {
      "cell_type": "markdown",
      "source": [
        "In Flask, the @app.route() decorator is used to map a specific URL (route) to a Python function. It defines which function should be executed when a user accesses a particular path in the web application. This allows Flask to handle different requests and return appropriate responses for each URL. Essentially, @app.route() connects URLs to the logic that generates the response, making routing in web applications possible."
      ],
      "metadata": {
        "id": "JQ1eZV4Z4gXD"
      }
    },
    {
      "cell_type": "markdown",
      "source": [
        "**8.What is the difference between GET and POST HTTP methods?**"
      ],
      "metadata": {
        "id": "zRzTSchz4ifo"
      }
    },
    {
      "cell_type": "markdown",
      "source": [
        "The GET and POST HTTP methods are used differently in RESTful APIs. GET is used to retrieve or read data from the server, with parameters sent in the URL, making it visible and cacheable; it is idempotent, meaning repeated requests produce the same result without changing server data. POST, on the other hand, is used to send data to the server to create or update resources, with data sent in the request body; it is more secure for sensitive data and not necessarily idempotent. In short, GET is for fetching data, while POST is for submitting or creating data on the server."
      ],
      "metadata": {
        "id": "2NfGtd2U4sLk"
      }
    },
    {
      "cell_type": "markdown",
      "source": [
        "**9. How do you handle errors in Flask APIs?**"
      ],
      "metadata": {
        "id": "p8jtXRDt4tE7"
      }
    },
    {
      "cell_type": "markdown",
      "source": [
        "In Flask APIs, errors are handled by returning appropriate HTTP status codes, defining custom error handlers, and using exceptions. Developers can return responses with status codes like 404 Not Found or 400 Bad Request along with error messages to inform clients. Custom error handlers can be defined using the @app.errorhandler() decorator to standardize error responses across the API. Additionally, Flask allows raising exceptions for invalid operations, which are automatically converted into HTTP error responses. Proper error handling ensures the API is robust, predictable, and user-friendly."
      ],
      "metadata": {
        "id": "qLKrkGFg42t0"
      }
    },
    {
      "cell_type": "markdown",
      "source": [
        "**10.How do you connect Flask to a SQL database?**"
      ],
      "metadata": {
        "id": "EqahkQy85HIT"
      }
    },
    {
      "cell_type": "markdown",
      "source": [
        "In Flask, you connect to a SQL database by configuring the database URI and using a library such as SQLAlchemy, which acts as an Object Relational Mapper (ORM). The steps include installing the required packages, setting the SQLALCHEMY_DATABASE_URI in the Flask app configuration, and initializing the database with SQLAlchemy(app). You define database tables as Python classes called models, and then perform CRUD (Create, Read, Update, Delete) operations using the db.session object. This approach allows Flask applications to interact with SQL databases like SQLite, MySQL, or PostgreSQL in a structured and efficient way."
      ],
      "metadata": {
        "id": "XplDoG2f5QzP"
      }
    },
    {
      "cell_type": "markdown",
      "source": [
        "**11. What is the role of Flask-SQLAlchemy?**"
      ],
      "metadata": {
        "id": "HXh8-_Fw5SFX"
      }
    },
    {
      "cell_type": "markdown",
      "source": [
        "Flask-SQLAlchemy is an extension for Flask that simplifies working with SQL databases. It integrates SQLAlchemy, a powerful Object Relational Mapper (ORM), with Flask, allowing developers to interact with databases using Python classes and objects instead of writing raw SQL queries.\n",
        "\n",
        "Roles and Benefits:\n",
        "\n",
        "ORM Functionality: Map Python classes to database tables for easier data manipulation.\n",
        "\n",
        "Simplified Configuration: Integrates seamlessly with Flask’s app configuration.\n",
        "\n",
        "CRUD Operations: Provides a convenient interface for creating, reading, updating, and deleting records.\n",
        "\n",
        "Database-Agnostic: Works with SQLite, MySQL, PostgreSQL, and other SQL databases.\n",
        "\n",
        "Session Management: Handles database sessions and transactions automatically."
      ],
      "metadata": {
        "id": "ZIWPyRtn5Ykt"
      }
    },
    {
      "cell_type": "markdown",
      "source": [
        "**12.What are Flask blueprints, and how are they useful?**"
      ],
      "metadata": {
        "id": "kVqiOxMt5fO1"
      }
    },
    {
      "cell_type": "markdown",
      "source": [
        "Flask Blueprints are a way to organize a Flask application into modular components. A blueprint is essentially a collection of routes, templates, static files, and other application logic that can be registered on the main Flask app.\n",
        "\n",
        "Why They Are Useful:\n",
        "\n",
        "Modularity: Allows splitting a large application into smaller, manageable pieces.\n",
        "\n",
        "Reusability: Blueprints can be reused across multiple projects or apps.\n",
        "\n",
        "Organized Routing: Keeps related routes together, making the code easier to maintain.\n",
        "\n",
        "Separation of Concerns: Helps separate different functionalities (e.g., user management, admin panel, API routes).\n",
        "\n",
        "Scalability: Makes it easier to scale large applications without creating a monolithic codebase."
      ],
      "metadata": {
        "id": "ThPmWZ0u5m_t"
      }
    },
    {
      "cell_type": "markdown",
      "source": [
        "**13.What is the purpose of Flask's request object?**"
      ],
      "metadata": {
        "id": "stbhfdex5onD"
      }
    },
    {
      "cell_type": "markdown",
      "source": [
        "In Flask, the request object represents the incoming HTTP request sent by a client (browser, app, or other service) to the server. It provides all the information about the request, allowing the Flask app to access data sent by the client.\n",
        "\n",
        "Purpose:\n",
        "\n",
        "Access Form Data: Retrieve data sent via POST forms using request.form.\n",
        "\n",
        "Query Parameters: Get URL query parameters using request.args.\n",
        "\n",
        "Headers: Access HTTP headers via request.headers.\n",
        "\n",
        "JSON Data: Read JSON payloads using request.get_json().\n",
        "\n",
        "Cookies and Files: Access cookies (request.cookies) or uploaded files (request.files).\n",
        "\n",
        "Request Metadata: Check method (request.method), URL, or client IP."
      ],
      "metadata": {
        "id": "khdjLDsG5tLy"
      }
    },
    {
      "cell_type": "markdown",
      "source": [
        "**14.How do you create a RESTful API endpoint using Flask?**"
      ],
      "metadata": {
        "id": "EnHjhcgr5zLy"
      }
    },
    {
      "cell_type": "markdown",
      "source": [
        "In Flask, a RESTful API endpoint is created by defining a route using the `@app.route()` decorator, specifying the URL path and allowed HTTP methods such as GET or POST. The endpoint function handles incoming requests and returns data, usually in JSON format, using `jsonify()`. For example, a GET endpoint can retrieve a list of resources, while a POST endpoint can accept JSON data to create a new resource. This approach allows Flask to serve predictable, structured responses that conform to REST principles, making it easy for clients to interact with the API.\n"
      ],
      "metadata": {
        "id": "MBfyII7x54Ag"
      }
    },
    {
      "cell_type": "markdown",
      "source": [
        "**15.What is the purpose of Flask's jsonify() function?**"
      ],
      "metadata": {
        "id": "QNJ8njEB6IZQ"
      }
    },
    {
      "cell_type": "markdown",
      "source": [
        "In Flask, the jsonify() function is used to convert Python data structures (like dictionaries or lists) into JSON-formatted responses that can be sent to clients. It also automatically sets the Content-Type header to application/json, ensuring the client interprets the response correctly.\n",
        "\n",
        "Purpose:\n",
        "\n",
        "Return data from API endpoints in JSON format.\n",
        "\n",
        "Ensure the response has the correct HTTP headers.\n",
        "\n",
        "Simplify creating RESTful APIs in Flask."
      ],
      "metadata": {
        "id": "1zFyz8gC6L7N"
      }
    },
    {
      "cell_type": "markdown",
      "source": [
        "**16.Explain Flask’s url_for() function.**"
      ],
      "metadata": {
        "id": "o7gTPy9_6Rhn"
      }
    },
    {
      "cell_type": "markdown",
      "source": [
        "In Flask, the url_for() function is used to dynamically generate URLs for routes defined in your application. Instead of hardcoding URLs in templates or Python code, url_for() ensures that URLs remain correct even if the route paths change.\n",
        "\n",
        "Purpose:\n",
        "\n",
        "Avoid hardcoding URLs: Makes your app more maintainable.\n",
        "\n",
        "Generate URLs for routes and static files: Works for both dynamic endpoints and static assets.\n",
        "\n",
        "Supports dynamic parameters: Automatically inserts values for route variables."
      ],
      "metadata": {
        "id": "H3-asmLl6Wnt"
      }
    },
    {
      "cell_type": "markdown",
      "source": [
        "**17. How does Flask handle static files (CSS, JavaScript, etc.)?**"
      ],
      "metadata": {
        "id": "QxivomfX6bbT"
      }
    },
    {
      "cell_type": "markdown",
      "source": [
        "In Flask, static files like CSS, JavaScript, and images are served from a special folder named static by default. Flask automatically maps this folder to the URL path /static/, allowing clients to access files without additional routing."
      ],
      "metadata": {
        "id": "L5x-LgJL6gN9"
      }
    },
    {
      "cell_type": "markdown",
      "source": [
        "**18.What is an API specification, and how does it help in building a Flask API?**"
      ],
      "metadata": {
        "id": "VMdna1916kXs"
      }
    },
    {
      "cell_type": "markdown",
      "source": [
        "An **API specification** is a formal description of how an API works, detailing its endpoints, HTTP methods, request parameters, response formats, authentication, and error handling. It serves as a contract between the API developer and consumers, ensuring everyone knows how to interact with the API correctly. In building a Flask API, an API specification helps by defining routes and expected behavior, standardizing request and response formats, reducing errors, and facilitating testing and documentation. Essentially, it provides a clear blueprint for designing and implementing Flask APIs efficiently.\n"
      ],
      "metadata": {
        "id": "8U4A7l3Y6xv9"
      }
    },
    {
      "cell_type": "markdown",
      "source": [
        "**19.What are HTTP status codes, and why are they important in a Flask API?**"
      ],
      "metadata": {
        "id": "hT3n1LvF6zC3"
      }
    },
    {
      "cell_type": "markdown",
      "source": [
        "HTTP status codes are standardized numeric codes sent by a server in response to a client’s HTTP request, indicating the outcome of the request. For example, 200 means success, 404 means the resource was not found, and 500 indicates a server error.\n",
        "\n",
        "In a Flask API, status codes are important because they:\n",
        "\n",
        "Communicate the result of a request clearly to clients.\n",
        "\n",
        "Help clients handle responses programmatically (e.g., retry on errors, show messages).\n",
        "\n",
        "Make the API predictable and RESTful, following standard web conventions.\n",
        "\n",
        "Differentiate between success, client errors, and server errors, improving debugging and reliability."
      ],
      "metadata": {
        "id": "U3QktWbn68wl"
      }
    },
    {
      "cell_type": "markdown",
      "source": [
        "**20.How do you handle POST requests in Flask?**"
      ],
      "metadata": {
        "id": "IKPIMGtH695e"
      }
    },
    {
      "cell_type": "markdown",
      "source": [
        "In Flask, POST requests are handled by defining a route with the methods=['POST'] parameter and using the request object to access data sent by the client. POST requests typically send data in the request body, such as form data or JSON."
      ],
      "metadata": {
        "id": "PHOzGnr87Kl2"
      }
    },
    {
      "cell_type": "markdown",
      "source": [
        "**21.How would you secure a Flask API?**"
      ],
      "metadata": {
        "id": "JZQble9m7LzB"
      }
    },
    {
      "cell_type": "markdown",
      "source": [
        "Securing a Flask API involves implementing measures to protect data and ensure that only authorized users can access or modify resources. This includes **authentication** methods like API keys, JWT, or OAuth2 to verify users, and **authorization** to control what each user can do. Using **HTTPS** encrypts communication between the client and server, while **input validation** prevents attacks like SQL injection or XSS. Additional measures such as **rate limiting** prevent abuse, **CORS management** controls which domains can access the API, and careful **error handling** avoids exposing internal server details. Together, these practices make a Flask API safe, reliable, and robust.\n"
      ],
      "metadata": {
        "id": "oRE_jMRf7WEF"
      }
    },
    {
      "cell_type": "markdown",
      "source": [
        "**22.What is the significance of the Flask-RESTful extension?**"
      ],
      "metadata": {
        "id": "oDDmQbWb7Xh7"
      }
    },
    {
      "cell_type": "markdown",
      "source": [
        "The Flask-RESTful extension is a Flask add-on that simplifies building RESTful APIs by providing tools and abstractions specifically for API development.\n",
        "\n",
        "Significance:\n",
        "\n",
        "Resource-Based Routing: Allows defining API endpoints as classes (resources), making code more organized.\n",
        "\n",
        "Automatic Request Parsing: Provides built-in support for parsing JSON and form data using reqparse.\n",
        "\n",
        "Built-in Error Handling: Simplifies returning proper HTTP status codes and error messages.\n",
        "\n",
        "Serialization: Makes it easier to convert Python objects into JSON responses.\n",
        "\n",
        "Cleaner Code: Reduces boilerplate compared to using plain Flask, especially for large APIs."
      ],
      "metadata": {
        "id": "AH6v97407dUR"
      }
    },
    {
      "cell_type": "markdown",
      "source": [
        "**23.What is the role of Flask’s session object?**"
      ],
      "metadata": {
        "id": "Ys0he9kR7iXi"
      }
    },
    {
      "cell_type": "markdown",
      "source": [
        "In Flask, the **`session` object** is used to store data specific to a user across multiple requests, enabling the server to remember information such as login status or user preferences. Each client has its own session, and the data persists until the session expires or is cleared. By default, session data is stored in a signed cookie, ensuring it cannot be tampered with. Common uses include managing user authentication, flash messages, or temporary settings. Overall, the session object allows Flask applications to maintain **stateful behavior** and provide a personalized experience for each user.\n"
      ],
      "metadata": {
        "id": "qqFTXM9q7nVB"
      }
    },
    {
      "cell_type": "markdown",
      "source": [
        "#**Practicals**"
      ],
      "metadata": {
        "id": "_UiNi9O48omc"
      }
    },
    {
      "cell_type": "markdown",
      "source": [
        "**1.How do you create a basic Flask application?**"
      ],
      "metadata": {
        "id": "OGlRFtI9KHFm"
      }
    },
    {
      "cell_type": "code",
      "source": [
        "!pip install Flask\n"
      ],
      "metadata": {
        "id": "NAqoM2hAIGQV",
        "colab": {
          "base_uri": "https://localhost:8080/"
        },
        "outputId": "84aee76c-fc8a-48cb-c1a3-ec4128e6c02c"
      },
      "execution_count": 39,
      "outputs": [
        {
          "output_type": "stream",
          "name": "stdout",
          "text": [
            "Requirement already satisfied: Flask in /usr/local/lib/python3.12/dist-packages (3.1.1)\n",
            "Requirement already satisfied: blinker>=1.9.0 in /usr/local/lib/python3.12/dist-packages (from Flask) (1.9.0)\n",
            "Requirement already satisfied: click>=8.1.3 in /usr/local/lib/python3.12/dist-packages (from Flask) (8.2.1)\n",
            "Requirement already satisfied: itsdangerous>=2.2.0 in /usr/local/lib/python3.12/dist-packages (from Flask) (2.2.0)\n",
            "Requirement already satisfied: jinja2>=3.1.2 in /usr/local/lib/python3.12/dist-packages (from Flask) (3.1.6)\n",
            "Requirement already satisfied: markupsafe>=2.1.1 in /usr/local/lib/python3.12/dist-packages (from Flask) (3.0.2)\n",
            "Requirement already satisfied: werkzeug>=3.1.0 in /usr/local/lib/python3.12/dist-packages (from Flask) (3.1.3)\n"
          ]
        }
      ]
    },
    {
      "cell_type": "code",
      "source": [
        "# @title Default title text\n",
        "from flask import Flask\n",
        "\n",
        "app = Flask(__name__)\n",
        "\n",
        "@app.route('/')\n",
        "def home():\n",
        "    return \"Hello, Flask!\"\n",
        "\n",
        "if __name__ == '__main__':\n",
        "    app.run(debug=True)"
      ],
      "metadata": {
        "id": "EABJ3jxNDZSl"
      },
      "execution_count": null,
      "outputs": []
    },
    {
      "cell_type": "markdown",
      "source": [
        "**2. How do you serve static files like images or CSS in Flask?**"
      ],
      "metadata": {
        "id": "C-3pMnktKfRR"
      }
    },
    {
      "cell_type": "code",
      "source": [
        "my_flask_app/\n",
        "├─ app.py\n",
        "├─ static/\n",
        "│   ├─ style.css\n",
        "│   └─ logo.png\n",
        "└─ templates/\n",
        "    └─ index.html"
      ],
      "metadata": {
        "id": "YThSEiJlDgh0"
      },
      "execution_count": null,
      "outputs": []
    },
    {
      "cell_type": "code",
      "source": [
        "<!DOCTYPE html>\n",
        "<html>\n",
        "<head>\n",
        "    <title>Flask Static Example</title>\n",
        "    <link rel=\"stylesheet\" href=\"{{ url_for('static', filename='style.css') }}\">\n",
        "</head>\n",
        "<body>\n",
        "    <h1>Welcome!</h1>\n",
        "    <img src=\"{{ url_for('static', filename='logo.png') }}\" alt=\"Logo\">\n",
        "</body>\n",
        "</html>\n"
      ],
      "metadata": {
        "id": "nrZXYx_uH2le"
      },
      "execution_count": null,
      "outputs": []
    },
    {
      "cell_type": "markdown",
      "source": [
        "**3.How do you define different routes with different HTTP methods in Flask?**"
      ],
      "metadata": {
        "id": "IFfcuwHqLkP1"
      }
    },
    {
      "cell_type": "code",
      "source": [
        "!pip install Flask"
      ],
      "metadata": {
        "id": "0YjJxmJeBYkv"
      },
      "execution_count": null,
      "outputs": []
    },
    {
      "cell_type": "code",
      "source": [
        "from flask import Flask, request\n",
        "\n",
        "app = Flask(__name__)\n",
        "\n",
        "@app.route(\"/\", methods=[\"GET\"])\n",
        "def home():\n",
        "    return \"This is a GET request\"\n",
        "\n",
        "@app.route(\"/submit\", methods=[\"POST\"])\n",
        "def submit():\n",
        "    data = request.form.get(\"name\", \"No name provided\")\n",
        "    return f\"Hello, {data}!\"\n",
        "\n",
        "\n"
      ],
      "metadata": {
        "id": "AKJDhIXK4ueO"
      },
      "execution_count": 34,
      "outputs": []
    },
    {
      "cell_type": "code",
      "source": [
        "@app.route(\"/user\", methods=[\"GET\", \"POST\"])\n",
        "def user():\n",
        "    if request.method == \"GET\":\n",
        "        return \"You sent a GET request!\"\n",
        "    elif request.method == \"POST\":\n",
        "        return \"You sent a POST request!\"\n"
      ],
      "metadata": {
        "id": "Zb_FFXW14zaE"
      },
      "execution_count": 9,
      "outputs": []
    },
    {
      "cell_type": "code",
      "source": [
        "@app.route(\"/item/<int:item_id>\", methods=[\"GET\", \"PUT\", \"DELETE\"])\n",
        "def item(item_id):\n",
        "    if request.method == \"GET\":\n",
        "        return f\"Fetching item {item_id}\"\n",
        "    elif request.method == \"PUT\":\n",
        "        return f\"Updating item {item_id}\"\n",
        "    elif request.method == \"DELETE\":\n",
        "        return f\"Deleting item {item_id}\"\n"
      ],
      "metadata": {
        "id": "AJNHdWOt5HyT"
      },
      "execution_count": 11,
      "outputs": []
    },
    {
      "cell_type": "markdown",
      "source": [
        "**4. How do you render HTML templates in Flask?**"
      ],
      "metadata": {
        "id": "gJt_z5u9MI0G"
      }
    },
    {
      "cell_type": "code",
      "source": [
        "my_flask_app/\n",
        "│── app.py\n",
        "│── templates/\n",
        "│     ├── index.html\n",
        "│     ├── about.html"
      ],
      "metadata": {
        "id": "O_GgmUPX5obi"
      },
      "execution_count": null,
      "outputs": []
    },
    {
      "cell_type": "code",
      "source": [
        "from flask import Flask, render_template\n",
        "\n",
        "app = Flask(__name__)\n",
        "\n",
        "@app.route('/')\n",
        "def home():\n",
        "    name = \"Alice\"\n",
        "    return render_template('index.html', username=name)\n",
        "\n",
        "if __name__ == '__main__':\n",
        "    app.run(debug=True)"
      ],
      "metadata": {
        "id": "w6hRpOtw6XXq"
      },
      "execution_count": null,
      "outputs": []
    },
    {
      "cell_type": "code",
      "source": [
        "<!DOCTYPE html>\n",
        "<html>\n",
        "<head>\n",
        "    <title>Flask Home</title>\n",
        "</head>\n",
        "<body>\n",
        "    <h1>Welcome to Flask!</h1>\n",
        "    <p>This is the homepage.</p>\n",
        "    <a href=\"/about\">Go to About Page</a>\n",
        "</body>\n",
        "</html>"
      ],
      "metadata": {
        "id": "D-OkE_q76ftw"
      },
      "execution_count": null,
      "outputs": []
    },
    {
      "cell_type": "markdown",
      "source": [
        "**5.How can you generate URLs for routes in Flask using url_for?**"
      ],
      "metadata": {
        "id": "9O6qgthkMzOt"
      }
    },
    {
      "cell_type": "code",
      "source": [
        "from flask import Flask, url_for\n",
        "\n",
        "app = Flask(__name__)\n",
        "\n",
        "@app.route(\"/\")\n",
        "def home():\n",
        "    return \"Home Page\"\n",
        "\n",
        "@app.route(\"/about\")\n",
        "def about():\n",
        "    return \"About Page\"\n",
        "\n",
        "with app.test_request_context():\n",
        "    print(url_for(\"home\"))     # Output: /\n",
        "    print(url_for(\"about\"))    # Output: /about\n"
      ],
      "metadata": {
        "colab": {
          "base_uri": "https://localhost:8080/"
        },
        "id": "cdsZcXM2M8sb",
        "outputId": "e8016051-8518-4c62-ddee-02b5b2c89a24"
      },
      "execution_count": null,
      "outputs": [
        {
          "output_type": "stream",
          "name": "stdout",
          "text": [
            "/\n",
            "/about\n"
          ]
        }
      ]
    },
    {
      "cell_type": "markdown",
      "source": [
        "**6.How do you handle forms in Flask?**"
      ],
      "metadata": {
        "id": "2h0xecA4NEOo"
      }
    },
    {
      "cell_type": "code",
      "source": [
        "from flask import Flask, request\n",
        "app = Flask(__name__)\n",
        "\n",
        "@app.route(\"/\", methods=[\"GET\", \"POST\"])\n",
        "def form():\n",
        "    if request.method == \"POST\":\n",
        "        name = request.form[\"name\",alice]\n",
        "        return f\"Hello {name}\"\n",
        "    return '<form method=\"POST\"><input name=\"name\"><input type=\"submit\"></form>'"
      ],
      "metadata": {
        "id": "zkTIDQoONy-d"
      },
      "execution_count": 17,
      "outputs": []
    },
    {
      "cell_type": "markdown",
      "source": [
        "**7.How can you validate form data in Flask?**"
      ],
      "metadata": {
        "id": "jEt6hT1dN0sE"
      }
    },
    {
      "cell_type": "code",
      "source": [
        "from flask import Flask, request\n",
        "app = Flask(__name__)\n",
        "\n",
        "@app.route(\"/\", methods=[\"GET\", \"POST\"])\n",
        "def form():\n",
        "    if request.method == \"POST\":\n",
        "        name = request.form[\"name\"]\n",
        "        if not name:              # validation check\n",
        "            return \"Name is required\"\n",
        "        return f\"Hello {name}\"\n",
        "    return '<form method=\"POST\"><input name=\"name\"><input type=\"submit\"></form>'"
      ],
      "metadata": {
        "id": "uBqYeAe-OLIS"
      },
      "execution_count": 33,
      "outputs": []
    },
    {
      "cell_type": "markdown",
      "source": [
        "**8.How do you manage sessions in Flask?**"
      ],
      "metadata": {
        "id": "rd6OtdjsOXAo"
      }
    },
    {
      "cell_type": "code",
      "source": [
        "from flask import Flask, session, redirect, url_for, request\n",
        "app = Flask(__name__)\n",
        "app.secret_key = \"secret123\"   # required for sessions\n",
        "\n",
        "@app.route(\"/login\", methods=[\"POST\", \"GET\"])\n",
        "def login():\n",
        "    if request.method == \"POST\":\n",
        "        session[\"user\"] = request.form[\"name\"]\n",
        "        return redirect(url_for(\"welcome\"))\n",
        "    return '<form method=\"POST\"><input name=\"name\"><input type=\"submit\"></form>'\n",
        "\n",
        "@app.route(\"/welcome\")\n",
        "def welcome():\n",
        "    if \"user\" in session:\n",
        "        return f\"Welcome {session['user']}\"\n",
        "    return \"You are not logged in\""
      ],
      "metadata": {
        "id": "OQP7JWCQOgxk"
      },
      "execution_count": 19,
      "outputs": []
    },
    {
      "cell_type": "markdown",
      "source": [
        "**9.How do you redirect to a different route in Flask?**"
      ],
      "metadata": {
        "id": "Dz1oh02qOiSh"
      }
    },
    {
      "cell_type": "code",
      "source": [
        "from flask import Flask, redirect, url_for\n",
        "\n",
        "app = Flask(__name__)\n",
        "\n",
        "@app.route('/')\n",
        "def home():\n",
        "    return \"Home Page\"\n",
        "\n",
        "@app.route('/login')\n",
        "def login():\n",
        "    return \"Login Page\"\n",
        "\n",
        "@app.route('/go-login')\n",
        "def go_login():\n",
        "    # Redirect to the login route\n",
        "    return redirect(url_for('login'))\n",
        "\n",
        "if __name__ == '__main__':\n",
        "    app.run(debug=True)"
      ],
      "metadata": {
        "id": "TfQanfGu9S4f"
      },
      "execution_count": null,
      "outputs": []
    },
    {
      "cell_type": "markdown",
      "source": [
        "**10.How do you handle errors in Flask (e.g., 404)?**"
      ],
      "metadata": {
        "id": "EtbZd7brOnvP"
      }
    },
    {
      "cell_type": "code",
      "source": [
        "from flask import Flask, jsonify, request\n",
        "\n",
        "app = Flask(__name__)\n",
        "\n",
        "# Sample route\n",
        "@app.route('/')\n",
        "def home():\n",
        "    return \"Welcome to the Home Page!\"\n",
        "\n",
        "# Route with conditional error\n",
        "@app.route('/user/<int:id>')\n",
        "def get_user(id):\n",
        "    if id != 1:\n",
        "        return jsonify({\"error\": \"User not found\"}), 404\n",
        "    return jsonify({\"id\": 1, \"name\": \"Alice\"})\n",
        "\n",
        "# Custom 404 error handler\n",
        "@app.errorhandler(404)\n",
        "def not_found(error):\n",
        "    return jsonify({\"error\": \"Resource not found\"}), 404\n",
        "\n",
        "if __name__ == '__main__':\n",
        "    app.run(debug=True)\n"
      ],
      "metadata": {
        "id": "SJfOVjJ29c8l"
      },
      "execution_count": null,
      "outputs": []
    },
    {
      "cell_type": "markdown",
      "source": [
        "**11.How do you structure a Flask app using Blueprints?**"
      ],
      "metadata": {
        "id": "HMNdCjvxOr50"
      }
    },
    {
      "cell_type": "code",
      "source": [
        "my_flask_app/\n",
        "├─ app.py\n",
        "├─ users.py\n",
        "└─ products.py\n",
        "\n",
        "from flask import Blueprint, jsonify\n",
        "\n",
        "users_bp = Blueprint('users', __name__)\n",
        "\n",
        "@users_bp.route('/profile/<username>')\n",
        "def profile(username):\n",
        "    return jsonify({\"message\": f\"Profile page of {username}\"})"
      ],
      "metadata": {
        "id": "xN7ECh8q9iyb"
      },
      "execution_count": null,
      "outputs": []
    },
    {
      "cell_type": "code",
      "source": [
        "from flask import Blueprint, jsonify\n",
        "\n",
        "users_bp = Blueprint('users', __name__)\n",
        "\n",
        "@users_bp.route('/profile/<username>')\n",
        "def profile(username):\n",
        "    return jsonify({\"message\": f\"Profile page of {username}\"})\n"
      ],
      "metadata": {
        "id": "HIkn_EIyFm1C"
      },
      "execution_count": 23,
      "outputs": []
    },
    {
      "cell_type": "code",
      "source": [
        "from flask import Blueprint, jsonify\n",
        "\n",
        "products_bp = Blueprint('products', __name__)\n",
        "\n",
        "@products_bp.route('/list')\n",
        "def product_list():\n",
        "    return jsonify({\"products\": [\"Apple\", \"Banana\", \"Orange\"]})\n"
      ],
      "metadata": {
        "id": "AX1kpreHFrb1"
      },
      "execution_count": 24,
      "outputs": []
    },
    {
      "cell_type": "markdown",
      "source": [
        "**12.How do you define a custom Jinja filter in Flask?**"
      ],
      "metadata": {
        "id": "56KHnL8vOvtE"
      }
    },
    {
      "cell_type": "code",
      "source": [
        "from flask import Flask, render_template\n",
        "\n",
        "app = Flask(__name__)\n",
        "\n",
        "# Custom filter to reverse a string\n",
        "@app.template_filter('reverse')\n",
        "def reverse_string(s):\n",
        "    return s[::-1]\n",
        "\n",
        "@app.route('/')\n",
        "def home():\n",
        "    name = \"Flask\"\n",
        "    return render_template('index.html', name=name)\n",
        "\n",
        "if __name__ == '__main__':\n",
        "    app.run(debug=True)\n"
      ],
      "metadata": {
        "id": "evWzSo_jF_OW"
      },
      "execution_count": null,
      "outputs": []
    },
    {
      "cell_type": "code",
      "source": [
        "<!DOCTYPE html>\n",
        "<html>\n",
        "<head>\n",
        "    <title>Custom Filter Example</title>\n",
        "</head>\n",
        "<body>\n",
        "    <p>Original: {{ name }}</p>\n",
        "    <p>Reversed: {{ name | reverse }}</p>\n",
        "</body>\n",
        "</html>\n"
      ],
      "metadata": {
        "id": "4pi_I07XGCYF"
      },
      "execution_count": null,
      "outputs": []
    },
    {
      "cell_type": "markdown",
      "source": [
        "**13.How can you redirect with query parameters in Flask?**"
      ],
      "metadata": {
        "id": "WaP4epGhO1Xj"
      }
    },
    {
      "cell_type": "code",
      "source": [
        "from flask import Flask, redirect, url_for\n",
        "\n",
        "app = Flask(__name__)\n",
        "\n",
        "@app.route('/')\n",
        "def index():\n",
        "    # Redirect to /search?q=flask\n",
        "    return redirect(url_for('search', q='flask'))\n",
        "\n",
        "@app.route('/search')\n",
        "def search():\n",
        "    # Access query parameter: request.args.get('q')\n",
        "    from flask import request\n",
        "    query = request.args.get('q')\n",
        "    return f\"Search results for: {query}\"\n"
      ],
      "metadata": {
        "id": "PThMTKEQ9--4"
      },
      "execution_count": 27,
      "outputs": []
    },
    {
      "cell_type": "code",
      "source": [
        "@app.route('/redirect_example')\n",
        "def redirect_example():\n",
        "    return redirect(url_for('search', q='flask', page=2))\n"
      ],
      "metadata": {
        "id": "qgj8LQIt-GTH"
      },
      "execution_count": 28,
      "outputs": []
    },
    {
      "cell_type": "code",
      "source": [
        "@app.route('/google')\n",
        "def google():\n",
        "    return redirect(\"https://www.google.com/search?q=flask+python\")\n"
      ],
      "metadata": {
        "id": "KspgXUq2-IT9"
      },
      "execution_count": 29,
      "outputs": []
    },
    {
      "cell_type": "markdown",
      "source": [
        "**14. How do you return JSON responses in Flask?**"
      ],
      "metadata": {
        "id": "fys1SIx2O2-J"
      }
    },
    {
      "cell_type": "code",
      "source": [
        "from flask import Flask, jsonify\n",
        "\n",
        "app = Flask(__name__)\n",
        "\n",
        "@app.route(\"/api/data\")\n",
        "def get_data():\n",
        "    data = {\"name\": \"Alice\", \"age\": 30, \"city\": \"New York\"}\n",
        "    return jsonify(data)\n"
      ],
      "metadata": {
        "id": "x8Cee5WH-VkP"
      },
      "execution_count": 30,
      "outputs": []
    },
    {
      "cell_type": "markdown",
      "source": [
        "**15.How do you capture URL parameters in Flask?**"
      ],
      "metadata": {
        "id": "PdplqIwWO8QG"
      }
    },
    {
      "cell_type": "code",
      "source": [
        "from flask import Flask\n",
        "\n",
        "app = Flask(__name__)\n",
        "\n",
        "@app.route('/user/<username>')\n",
        "def show_user(username):\n",
        "    return f\"Hello, {username}!\"\n",
        "\n"
      ],
      "metadata": {
        "id": "S2ruKbCVO_ni"
      },
      "execution_count": 31,
      "outputs": []
    },
    {
      "cell_type": "code",
      "source": [
        "@app.route('/book/<string:title>/<int:chapter>')\n",
        "def show_book(title, chapter):\n",
        "    return f\"Book: {title}, Chapter: {chapter}\"\n"
      ],
      "metadata": {
        "id": "bAmF6b2D-y0a"
      },
      "execution_count": 32,
      "outputs": []
    }
  ]
}